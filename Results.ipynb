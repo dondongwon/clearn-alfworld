{
 "cells": [
  {
   "cell_type": "code",
   "execution_count": 1,
   "id": "dense-arizona",
   "metadata": {},
   "outputs": [],
   "source": [
    "import pandas as pd\n",
    "\n",
    "weights_dir = \"../model_weights/clean/pick/LCBC_100_2/pick_and_place_simple-AlarmClock-None-Desk-307\"\n",
    "res_path = weights_dir + '/results.csv'\n",
    "df = pd.read_csv(res_path)\n",
    "\n",
    "df['pick_sum'] = 0\n",
    "for i in range(15):\n",
    "    col_name = \"pick_\" + str(i)\n",
    "    df['pick_sum'] += df[col_name]\n",
    "    \n",
    "df.drop(df.columns[[0, 1]], axis = 1, inplace = True)\n",
    "df_lcbc = df"
   ]
  },
  {
   "cell_type": "code",
   "execution_count": 2,
   "id": "selective-swift",
   "metadata": {},
   "outputs": [],
   "source": [
    "import pandas as pd\n",
    "\n",
    "weights_dir = \"../model_weights/clean/pick/ours_100/pick_and_place_simple-AlarmClock-None-Desk-307\"\n",
    "res_path = weights_dir + '/results_.csv'\n",
    "df = pd.read_csv(res_path)\n",
    "\n",
    "df['pick_sum'] = 0\n",
    "for i in range(15):\n",
    "    col_name = \"pick_\" + str(i)\n",
    "    df['pick_sum'] += df[col_name]\n",
    "    \n",
    "df.drop(df.columns[[0, 1]], axis = 1, inplace = True)\n",
    "df_ours = df"
   ]
  },
  {
   "cell_type": "code",
   "execution_count": 3,
   "id": "secondary-withdrawal",
   "metadata": {},
   "outputs": [],
   "source": [
    "import pandas as pd\n",
    "\n",
    "weights_dir = \"../model_weights/clean/pick/twoLCBC_100_2/pick_and_place_simple-AlarmClock-None-Desk-307\"\n",
    "res_path = weights_dir + '/results_.csv'\n",
    "df = pd.read_csv(res_path)\n",
    "\n",
    "df['pick_sum'] = 0\n",
    "for i in range(15):\n",
    "    col_name = \"pick_\" + str(i)\n",
    "    df['pick_sum'] += df[col_name]\n",
    "    \n",
    "df.drop(df.columns[[0, 1]], axis = 1, inplace = True)\n",
    "df_twoLCBC = df"
   ]
  },
  {
   "cell_type": "code",
   "execution_count": 4,
   "id": "elegant-company",
   "metadata": {},
   "outputs": [],
   "source": [
    "import pandas as pd\n",
    "\n",
    "weights_dir = \"../model_weights/clean/pick/newLCBC_100/pick_and_place_simple-AlarmClock-None-Desk-307\"\n",
    "res_path = weights_dir + '/results_.csv'\n",
    "df = pd.read_csv(res_path)\n",
    "\n",
    "df['pick_sum'] = 0\n",
    "for i in range(15):\n",
    "    col_name = \"pick_\" + str(i)\n",
    "    df['pick_sum'] += df[col_name]\n",
    "    \n",
    "df.drop(df.columns[[0, 1]], axis = 1, inplace = True)\n",
    "df_newLCBC = df"
   ]
  },
  {
   "cell_type": "code",
   "execution_count": 5,
   "id": "korean-partition",
   "metadata": {},
   "outputs": [],
   "source": [
    "import pandas as pd\n",
    "\n",
    "weights_dir = \"../model_weights/clean/pick/LCBC_BCE_100/pick_and_place_simple-AlarmClock-None-Desk-307\"\n",
    "res_path = weights_dir + '/results_.csv'\n",
    "df = pd.read_csv(res_path)\n",
    "\n",
    "df['pick_sum'] = 0\n",
    "for i in range(15):\n",
    "    col_name = \"pick_\" + str(i)\n",
    "    df['pick_sum'] += df[col_name]\n",
    "    \n",
    "df.drop(df.columns[[0, 1]], axis = 1, inplace = True)\n",
    "df_LCBC_BCE = df"
   ]
  },
  {
   "cell_type": "code",
   "execution_count": 6,
   "id": "divine-advantage",
   "metadata": {},
   "outputs": [],
   "source": [
    "import pandas as pd\n",
    "\n",
    "weights_dir = \"../model_weights/clean/pick/outerproduct_mask_off_diag/pick_and_place_simple-AlarmClock-None-Desk-307\"\n",
    "res_path = weights_dir + '/results_.csv'\n",
    "df = pd.read_csv(res_path)\n",
    "\n",
    "df['pick_sum'] = 0\n",
    "for i in range(15):\n",
    "    col_name = \"pick_\" + str(i)\n",
    "    df['pick_sum'] += df[col_name]\n",
    "    \n",
    "df.drop(df.columns[[0, 1]], axis = 1, inplace = True)\n",
    "df_outerproduct = df"
   ]
  },
  {
   "cell_type": "code",
   "execution_count": 7,
   "id": "sublime-detector",
   "metadata": {},
   "outputs": [
    {
     "data": {
      "text/html": [
       "<div>\n",
       "<style scoped>\n",
       "    .dataframe tbody tr th:only-of-type {\n",
       "        vertical-align: middle;\n",
       "    }\n",
       "\n",
       "    .dataframe tbody tr th {\n",
       "        vertical-align: top;\n",
       "    }\n",
       "\n",
       "    .dataframe thead th {\n",
       "        text-align: right;\n",
       "    }\n",
       "</style>\n",
       "<table border=\"1\" class=\"dataframe\">\n",
       "  <thead>\n",
       "    <tr style=\"text-align: right;\">\n",
       "      <th></th>\n",
       "      <th>epoch</th>\n",
       "      <th>pick_sum</th>\n",
       "    </tr>\n",
       "  </thead>\n",
       "  <tbody>\n",
       "    <tr>\n",
       "      <th>0</th>\n",
       "      <td>0</td>\n",
       "      <td>5.0</td>\n",
       "    </tr>\n",
       "    <tr>\n",
       "      <th>1</th>\n",
       "      <td>100</td>\n",
       "      <td>11.0</td>\n",
       "    </tr>\n",
       "    <tr>\n",
       "      <th>2</th>\n",
       "      <td>200</td>\n",
       "      <td>7.0</td>\n",
       "    </tr>\n",
       "    <tr>\n",
       "      <th>3</th>\n",
       "      <td>300</td>\n",
       "      <td>7.0</td>\n",
       "    </tr>\n",
       "    <tr>\n",
       "      <th>4</th>\n",
       "      <td>400</td>\n",
       "      <td>6.0</td>\n",
       "    </tr>\n",
       "    <tr>\n",
       "      <th>5</th>\n",
       "      <td>500</td>\n",
       "      <td>5.0</td>\n",
       "    </tr>\n",
       "    <tr>\n",
       "      <th>6</th>\n",
       "      <td>600</td>\n",
       "      <td>5.0</td>\n",
       "    </tr>\n",
       "    <tr>\n",
       "      <th>7</th>\n",
       "      <td>700</td>\n",
       "      <td>5.0</td>\n",
       "    </tr>\n",
       "    <tr>\n",
       "      <th>8</th>\n",
       "      <td>800</td>\n",
       "      <td>5.0</td>\n",
       "    </tr>\n",
       "    <tr>\n",
       "      <th>9</th>\n",
       "      <td>900</td>\n",
       "      <td>6.0</td>\n",
       "    </tr>\n",
       "    <tr>\n",
       "      <th>10</th>\n",
       "      <td>1000</td>\n",
       "      <td>5.0</td>\n",
       "    </tr>\n",
       "  </tbody>\n",
       "</table>\n",
       "</div>"
      ],
      "text/plain": [
       "    epoch  pick_sum\n",
       "0       0       5.0\n",
       "1     100      11.0\n",
       "2     200       7.0\n",
       "3     300       7.0\n",
       "4     400       6.0\n",
       "5     500       5.0\n",
       "6     600       5.0\n",
       "7     700       5.0\n",
       "8     800       5.0\n",
       "9     900       6.0\n",
       "10   1000       5.0"
      ]
     },
     "execution_count": 7,
     "metadata": {},
     "output_type": "execute_result"
    }
   ],
   "source": [
    "df_outerproduct[[\"epoch\",\"pick_sum\"]]"
   ]
  },
  {
   "cell_type": "code",
   "execution_count": 8,
   "id": "double-appendix",
   "metadata": {},
   "outputs": [],
   "source": [
    "\n",
    "\n",
    "ours_sum = df_ours['pick_sum'].to_list()\n",
    "lcbc_sum = df_lcbc['pick_sum'].to_list()\n",
    "twoLCBC_sum = df_twoLCBC['pick_sum'].to_list()\n",
    "newLCBC_sum = df_newLCBC['pick_sum'].to_list()\n",
    "BCELCBC_sum = df_LCBC_BCE['pick_sum'].to_list()\n",
    "outerproduct_sum = df_outerproduct['pick_sum'].to_list()\n",
    "\n",
    "res_len = min(len(df_lcbc['pick_sum'].to_list()), len(df_ours['pick_sum'].to_list()))\n",
    "\n",
    "epochs = df_ours['epoch'].to_list()[:res_len]"
   ]
  },
  {
   "cell_type": "code",
   "execution_count": 20,
   "id": "regular-shower",
   "metadata": {},
   "outputs": [
    {
     "data": {
      "image/png": "[encoded data removed]",
      "text/plain": [
       "<Figure size 1440x216 with 1 Axes>"
      ]
     },
     "metadata": {
      "needs_background": "light"
     },
     "output_type": "display_data"
    }
   ],
   "source": [
    "from matplotlib import pyplot as plt\n",
    "\n",
    "import numpy as np\n",
    "\n",
    "plt.rcParams[\"figure.figsize\"] = (20,3)\n",
    "\n",
    "N = len(outerproduct_sum)\n",
    "\n",
    "ind = np.arange(N) \n",
    "width = 0.2     \n",
    "plt.bar(ind, ours_sum[:N] , width, label='C-Learning')\n",
    "plt.bar(ind + width, newLCBC_sum[:N], width, label='C-Learning w/ LCBC architecture')\n",
    "plt.bar(ind + 2*width, lcbc_sum[:N], width, label='Softmax-LCBC')\n",
    "plt.bar(ind + 3*width, BCELCBC_sum[:N], width, label='BCE-LCBC')\n",
    "\n",
    "\n",
    "# \n",
    "# plt.bar(ind + 5*width, outerproduct_sum[:N], width, label='outer')\n",
    "\n",
    "plt.ylabel('Successful Picked Objects')\n",
    "plt.title('Success by Epoch')\n",
    "\n",
    "plt.xticks(ind + width, epochs[1:N+1])\n",
    "plt.legend(loc='best')\n",
    "plt.show()"
   ]
  },
  {
   "cell_type": "code",
   "execution_count": 22,
   "id": "stuck-novelty",
   "metadata": {},
   "outputs": [
    {
     "data": {
      "image/png": "[encoded data removed]",
      "text/plain": [
       "<Figure size 360x216 with 1 Axes>"
      ]
     },
     "metadata": {
      "needs_background": "light"
     },
     "output_type": "display_data"
    }
   ],
   "source": [
    "from matplotlib import pyplot as plt\n",
    "\n",
    "import numpy as np\n",
    "\n",
    "plt.rcParams[\"figure.figsize\"] = (5,3)\n",
    "\n",
    "N = 11\n",
    "\n",
    "ind = np.arange(1) \n",
    "width = 0.1      \n",
    "plt.bar(ind, max(ours_sum[:N]) , width, label='C-Learning')\n",
    "plt.bar(ind + 1*width, max(newLCBC_sum[:N]), width, label='C-Learning w/ LCBC architecture')\n",
    "plt.bar(ind + 2*width, max(lcbc_sum[:N]), width, label='Softmax-LCBC')\n",
    "plt.bar(ind + 3*width, max(BCELCBC_sum[:N]), width, label='BCE-LCBC')\n",
    "\n",
    "\n",
    "plt.ylabel('Successful Objects')\n",
    "plt.title('Success by Epoch')\n",
    "plt.xticks([])\n",
    "# plt.legend(loc='best')\n",
    "plt.show()"
   ]
  },
  {
   "cell_type": "code",
   "execution_count": 18,
   "id": "annoying-market",
   "metadata": {},
   "outputs": [
    {
     "data": {
      "text/plain": [
       "<matplotlib.legend.Legend at 0x7f6a18736fa0>"
      ]
     },
     "execution_count": 18,
     "metadata": {},
     "output_type": "execute_result"
    },
    {
     "data": {
      "image/png": "[encoded data removed]",
      "text/plain": [
       "<Figure size 360x216 with 1 Axes>"
      ]
     },
     "metadata": {
      "needs_background": "light"
     },
     "output_type": "display_data"
    }
   ],
   "source": [
    "import numpy as np\n",
    "import matplotlib.pyplot as plt\n",
    "from matplotlib import ticker\n",
    "\n",
    "coins = ['penny', 'nickle', 'dime', 'quarter']\n",
    "worth = np.array([.01, .05, .10, .25])\n",
    "\n",
    "# Coin values times *n* coins\n",
    "#    This controls how many bars we get in each group\n",
    "values = [worth*i for i in range(1,6)]\n",
    "\n",
    "n = len(values)                # Number of bars to plot\n",
    "w = .15                        # With of each column\n",
    "x = np.arange(0, len(coins))   # Center position of group on x axis\n",
    "\n",
    "for i, value in enumerate(values):\n",
    "    position = x + (w*(1-n)/2) + i*w\n",
    "    plt.bar(position, value, width=w, label=f'{i+1}x')\n",
    "\n",
    "plt.xticks(x, coins);\n",
    "\n",
    "plt.ylabel('Monetary Value')\n",
    "plt.gca().yaxis.set_major_formatter(ticker.FormatStrFormatter('$%.2f'))\n",
    "\n",
    "plt.legend()"
   ]
  },
  {
   "cell_type": "code",
   "execution_count": 25,
   "id": "satisfactory-nylon",
   "metadata": {},
   "outputs": [
    {
     "data": {
      "text/plain": [
       "83.313"
      ]
     },
     "execution_count": 25,
     "metadata": {},
     "output_type": "execute_result"
    }
   ],
   "source": [
    "((0.7342+0.80)/2)*30 + ((.89 + .84 + .8 + .8)/4)*40 + (0.9)*30"
   ]
  },
  {
   "cell_type": "code",
   "execution_count": null,
   "id": "suspended-lafayette",
   "metadata": {},
   "outputs": [],
   "source": []
  }
 ],
 "metadata": {
  "kernelspec": {
   "display_name": "Python 3",
   "language": "python",
   "name": "python3"
  },
  "language_info": {
   "codemirror_mode": {
    "name": "ipython",
    "version": 3
   },
   "file_extension": ".py",
   "mimetype": "text/x-python",
   "name": "python",
   "nbconvert_exporter": "python",
   "pygments_lexer": "ipython3",
   "version": "3.8.8"
  }
 },
 "nbformat": 4,
 "nbformat_minor": 5
}
