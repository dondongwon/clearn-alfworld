{
 "cells": [
  {
   "cell_type": "code",
   "execution_count": 1,
   "id": "b7672f7c",
   "metadata": {},
   "outputs": [],
   "source": [
    "import pandas as pd\n",
    "\n",
    "weights_dir = \"../model_weights/clean/pick/imbalanced_LCBC/pick_and_place_simple-AlarmClock-None-Desk-307\"\n",
    "res_path = weights_dir + '/results.csv'\n",
    "df = pd.read_csv(res_path)\n",
    "\n",
    "df['pick_sum'] = 0\n",
    "for i in range(14):\n",
    "    col_name = \"pick_\" + str(i)\n",
    "    df['pick_sum'] += df[col_name]\n",
    "    \n",
    "df.drop(df.columns[[0, 1]], axis = 1, inplace = True)\n",
    "df_lcbc = df\n",
    "\n",
    "lcbc_sum = df_lcbc['pick_sum'].to_list()\n"
   ]
  },
  {
   "cell_type": "code",
   "execution_count": 2,
   "id": "alpha-billy",
   "metadata": {},
   "outputs": [
    {
     "data": {
      "text/plain": [
       "[0.0, 7.0, 8.0, 7.0, 7.0, 7.0, 7.0, 9.0, 8.0, 7.0]"
      ]
     },
     "execution_count": 2,
     "metadata": {},
     "output_type": "execute_result"
    }
   ],
   "source": [
    "import pandas as pd\n",
    "\n",
    "weights_dir = \"../model_weights/clean/pick/imbalanced_ours/pick_and_place_simple-AlarmClock-None-Desk-307\"\n",
    "res_path = weights_dir + '/results_.csv'\n",
    "df = pd.read_csv(res_path)\n",
    "\n",
    "df['pick_sum'] = 0\n",
    "for i in range(14):\n",
    "    col_name = \"pick_\" + str(i)\n",
    "    df['pick_sum'] += df[col_name]\n",
    "    \n",
    "df.drop(df.columns[[0, 1]], axis = 1, inplace = True)\n",
    "df_ours = df\n",
    "\n",
    "x = df_ours['epoch'].to_list()\n",
    "ours_sum = df_ours['pick_sum'].to_list()\n",
    "ours_sum"
   ]
  },
  {
   "cell_type": "code",
   "execution_count": 3,
   "id": "29aa6d5f",
   "metadata": {},
   "outputs": [],
   "source": [
    "import pandas as pd\n",
    "\n",
    "weights_dir = \"../model_weights/clean/pick/imbalanced_ours/pick_and_place_simple-AlarmClock-None-Desk-307\"\n",
    "res_path = weights_dir + '/results_in_dist_alt.csv'\n",
    "df = pd.read_csv(res_path)\n",
    "\n",
    "df['pick_sum'] = 0\n",
    "for i in range(14):\n",
    "    col_name = \"pick_\" + str(i)\n",
    "    df['pick_sum'] += df[col_name]\n",
    "    \n",
    "df.drop(df.columns[[0, 1]], axis = 1, inplace = True)\n",
    "df_ours = df"
   ]
  },
  {
   "cell_type": "code",
   "execution_count": 4,
   "id": "06922718",
   "metadata": {},
   "outputs": [
    {
     "data": {
      "text/plain": [
       "[2.0, 0.0, 2.0, 7.0, 4.0, 5.0, 5.0, 5.0, 7.0]"
      ]
     },
     "execution_count": 4,
     "metadata": {},
     "output_type": "execute_result"
    }
   ],
   "source": [
    "\n",
    "x = df_ours['epoch'].to_list()\n",
    "ours_sum = df_ours['pick_sum'].to_list()\n",
    "ours_sum\n"
   ]
  },
  {
   "cell_type": "code",
   "execution_count": 5,
   "id": "optical-origin",
   "metadata": {},
   "outputs": [
    {
     "data": {
      "text/plain": [
       "[2.0, 0.0, 2.0, 7.0, 4.0, 5.0, 5.0, 5.0, 7.0]"
      ]
     },
     "execution_count": 5,
     "metadata": {},
     "output_type": "execute_result"
    }
   ],
   "source": [
    "ours_sum"
   ]
  },
  {
   "cell_type": "code",
   "execution_count": 6,
   "id": "ca4be37f",
   "metadata": {},
   "outputs": [
    {
     "data": {
      "text/plain": [
       "11"
      ]
     },
     "execution_count": 6,
     "metadata": {},
     "output_type": "execute_result"
    }
   ],
   "source": [
    "len(lcbc_sum)"
   ]
  },
  {
   "cell_type": "code",
   "execution_count": 7,
   "id": "39d5a80d",
   "metadata": {},
   "outputs": [
    {
     "data": {
      "text/plain": [
       "9"
      ]
     },
     "execution_count": 7,
     "metadata": {},
     "output_type": "execute_result"
    }
   ],
   "source": [
    "len(ours_sum)"
   ]
  },
  {
   "cell_type": "code",
   "execution_count": 8,
   "id": "clear-church",
   "metadata": {},
   "outputs": [
    {
     "data": {
      "text/plain": [
       "[0.0, 8.0, 8.0, 11.0, 11.0, 11.0, 11.0, 11.0, 12.0, 11.0, 12.0]"
      ]
     },
     "execution_count": 8,
     "metadata": {},
     "output_type": "execute_result"
    }
   ],
   "source": [
    "lcbc_sum"
   ]
  },
  {
   "cell_type": "code",
   "execution_count": 9,
   "id": "b90b8336",
   "metadata": {},
   "outputs": [
    {
     "data": {
      "image/png": "[encoded data removed]",
      "text/plain": [
       "<Figure size 1440x216 with 1 Axes>"
      ]
     },
     "metadata": {
      "needs_background": "light"
     },
     "output_type": "display_data"
    }
   ],
   "source": [
    "import numpy as np\n",
    "import matplotlib.pyplot as plt\n",
    "\n",
    "plt.rcParams[\"figure.figsize\"] = (20,3)\n",
    "\n",
    "N = len(ours_sum)\n",
    "\n",
    "ind = np.arange(N) \n",
    "width = 0.35       \n",
    "plt.bar(ind, ours_sum, width, label='ours')\n",
    "\n",
    "plt.bar(ind + width, lcbc_sum[:N], width, label='lcbc')\n",
    "\n",
    "plt.ylabel('Successful Objects')\n",
    "plt.ylabel('succeses')\n",
    "plt.title('Success by Epoch')\n",
    "\n",
    "plt.xticks(ind + width / 2, x)\n",
    "plt.ylim([0, 15])\n",
    "plt.legend(loc='best')\n",
    "plt.show()"
   ]
  },
  {
   "cell_type": "code",
   "execution_count": 10,
   "id": "59083db8",
   "metadata": {},
   "outputs": [
    {
     "data": {
      "text/html": [
       "<div>\n",
       "<style scoped>\n",
       "    .dataframe tbody tr th:only-of-type {\n",
       "        vertical-align: middle;\n",
       "    }\n",
       "\n",
       "    .dataframe tbody tr th {\n",
       "        vertical-align: top;\n",
       "    }\n",
       "\n",
       "    .dataframe thead th {\n",
       "        text-align: right;\n",
       "    }\n",
       "</style>\n",
       "<table border=\"1\" class=\"dataframe\">\n",
       "  <thead>\n",
       "    <tr style=\"text-align: right;\">\n",
       "      <th></th>\n",
       "      <th>epoch</th>\n",
       "      <th>pick_0</th>\n",
       "      <th>pick_1</th>\n",
       "      <th>pick_2</th>\n",
       "      <th>pick_3</th>\n",
       "      <th>pick_4</th>\n",
       "      <th>pick_5</th>\n",
       "      <th>pick_6</th>\n",
       "      <th>pick_7</th>\n",
       "      <th>pick_8</th>\n",
       "      <th>...</th>\n",
       "      <th>traj_14</th>\n",
       "      <th>traj_2</th>\n",
       "      <th>traj_3</th>\n",
       "      <th>traj_4</th>\n",
       "      <th>traj_5</th>\n",
       "      <th>traj_6</th>\n",
       "      <th>traj_7</th>\n",
       "      <th>traj_8</th>\n",
       "      <th>traj_9</th>\n",
       "      <th>pick_sum</th>\n",
       "    </tr>\n",
       "  </thead>\n",
       "  <tbody>\n",
       "    <tr>\n",
       "      <th>0</th>\n",
       "      <td>0</td>\n",
       "      <td>0.0</td>\n",
       "      <td>0.0</td>\n",
       "      <td>0.0</td>\n",
       "      <td>0.0</td>\n",
       "      <td>0.0</td>\n",
       "      <td>0.0</td>\n",
       "      <td>0.0</td>\n",
       "      <td>0.0</td>\n",
       "      <td>0.0</td>\n",
       "      <td>...</td>\n",
       "      <td>20.0</td>\n",
       "      <td>20.0</td>\n",
       "      <td>20.0</td>\n",
       "      <td>20.0</td>\n",
       "      <td>20.0</td>\n",
       "      <td>20.0</td>\n",
       "      <td>20.0</td>\n",
       "      <td>20.0</td>\n",
       "      <td>20.0</td>\n",
       "      <td>0.0</td>\n",
       "    </tr>\n",
       "    <tr>\n",
       "      <th>1</th>\n",
       "      <td>100</td>\n",
       "      <td>1.0</td>\n",
       "      <td>0.0</td>\n",
       "      <td>0.0</td>\n",
       "      <td>1.0</td>\n",
       "      <td>0.0</td>\n",
       "      <td>1.0</td>\n",
       "      <td>1.0</td>\n",
       "      <td>1.0</td>\n",
       "      <td>0.0</td>\n",
       "      <td>...</td>\n",
       "      <td>20.0</td>\n",
       "      <td>8.0</td>\n",
       "      <td>2.0</td>\n",
       "      <td>2.0</td>\n",
       "      <td>3.0</td>\n",
       "      <td>5.0</td>\n",
       "      <td>2.0</td>\n",
       "      <td>20.0</td>\n",
       "      <td>20.0</td>\n",
       "      <td>7.0</td>\n",
       "    </tr>\n",
       "    <tr>\n",
       "      <th>2</th>\n",
       "      <td>200</td>\n",
       "      <td>1.0</td>\n",
       "      <td>0.0</td>\n",
       "      <td>0.0</td>\n",
       "      <td>1.0</td>\n",
       "      <td>0.0</td>\n",
       "      <td>1.0</td>\n",
       "      <td>1.0</td>\n",
       "      <td>1.0</td>\n",
       "      <td>0.0</td>\n",
       "      <td>...</td>\n",
       "      <td>4.0</td>\n",
       "      <td>20.0</td>\n",
       "      <td>2.0</td>\n",
       "      <td>5.0</td>\n",
       "      <td>3.0</td>\n",
       "      <td>3.0</td>\n",
       "      <td>2.0</td>\n",
       "      <td>21.0</td>\n",
       "      <td>20.0</td>\n",
       "      <td>8.0</td>\n",
       "    </tr>\n",
       "    <tr>\n",
       "      <th>3</th>\n",
       "      <td>300</td>\n",
       "      <td>1.0</td>\n",
       "      <td>0.0</td>\n",
       "      <td>0.0</td>\n",
       "      <td>1.0</td>\n",
       "      <td>0.0</td>\n",
       "      <td>1.0</td>\n",
       "      <td>1.0</td>\n",
       "      <td>1.0</td>\n",
       "      <td>0.0</td>\n",
       "      <td>...</td>\n",
       "      <td>3.0</td>\n",
       "      <td>21.0</td>\n",
       "      <td>2.0</td>\n",
       "      <td>20.0</td>\n",
       "      <td>3.0</td>\n",
       "      <td>5.0</td>\n",
       "      <td>2.0</td>\n",
       "      <td>20.0</td>\n",
       "      <td>20.0</td>\n",
       "      <td>7.0</td>\n",
       "    </tr>\n",
       "    <tr>\n",
       "      <th>4</th>\n",
       "      <td>400</td>\n",
       "      <td>0.0</td>\n",
       "      <td>0.0</td>\n",
       "      <td>0.0</td>\n",
       "      <td>1.0</td>\n",
       "      <td>0.0</td>\n",
       "      <td>1.0</td>\n",
       "      <td>0.0</td>\n",
       "      <td>1.0</td>\n",
       "      <td>1.0</td>\n",
       "      <td>...</td>\n",
       "      <td>20.0</td>\n",
       "      <td>20.0</td>\n",
       "      <td>2.0</td>\n",
       "      <td>20.0</td>\n",
       "      <td>3.0</td>\n",
       "      <td>20.0</td>\n",
       "      <td>2.0</td>\n",
       "      <td>3.0</td>\n",
       "      <td>20.0</td>\n",
       "      <td>7.0</td>\n",
       "    </tr>\n",
       "    <tr>\n",
       "      <th>5</th>\n",
       "      <td>500</td>\n",
       "      <td>0.0</td>\n",
       "      <td>0.0</td>\n",
       "      <td>0.0</td>\n",
       "      <td>1.0</td>\n",
       "      <td>0.0</td>\n",
       "      <td>1.0</td>\n",
       "      <td>1.0</td>\n",
       "      <td>1.0</td>\n",
       "      <td>0.0</td>\n",
       "      <td>...</td>\n",
       "      <td>20.0</td>\n",
       "      <td>21.0</td>\n",
       "      <td>2.0</td>\n",
       "      <td>21.0</td>\n",
       "      <td>3.0</td>\n",
       "      <td>4.0</td>\n",
       "      <td>2.0</td>\n",
       "      <td>20.0</td>\n",
       "      <td>20.0</td>\n",
       "      <td>7.0</td>\n",
       "    </tr>\n",
       "    <tr>\n",
       "      <th>6</th>\n",
       "      <td>600</td>\n",
       "      <td>1.0</td>\n",
       "      <td>0.0</td>\n",
       "      <td>0.0</td>\n",
       "      <td>1.0</td>\n",
       "      <td>0.0</td>\n",
       "      <td>1.0</td>\n",
       "      <td>0.0</td>\n",
       "      <td>1.0</td>\n",
       "      <td>0.0</td>\n",
       "      <td>...</td>\n",
       "      <td>20.0</td>\n",
       "      <td>20.0</td>\n",
       "      <td>2.0</td>\n",
       "      <td>3.0</td>\n",
       "      <td>3.0</td>\n",
       "      <td>20.0</td>\n",
       "      <td>2.0</td>\n",
       "      <td>20.0</td>\n",
       "      <td>20.0</td>\n",
       "      <td>7.0</td>\n",
       "    </tr>\n",
       "    <tr>\n",
       "      <th>7</th>\n",
       "      <td>700</td>\n",
       "      <td>1.0</td>\n",
       "      <td>0.0</td>\n",
       "      <td>0.0</td>\n",
       "      <td>1.0</td>\n",
       "      <td>1.0</td>\n",
       "      <td>1.0</td>\n",
       "      <td>0.0</td>\n",
       "      <td>0.0</td>\n",
       "      <td>1.0</td>\n",
       "      <td>...</td>\n",
       "      <td>20.0</td>\n",
       "      <td>20.0</td>\n",
       "      <td>2.0</td>\n",
       "      <td>4.0</td>\n",
       "      <td>3.0</td>\n",
       "      <td>20.0</td>\n",
       "      <td>20.0</td>\n",
       "      <td>3.0</td>\n",
       "      <td>20.0</td>\n",
       "      <td>9.0</td>\n",
       "    </tr>\n",
       "    <tr>\n",
       "      <th>8</th>\n",
       "      <td>800</td>\n",
       "      <td>0.0</td>\n",
       "      <td>0.0</td>\n",
       "      <td>0.0</td>\n",
       "      <td>1.0</td>\n",
       "      <td>1.0</td>\n",
       "      <td>1.0</td>\n",
       "      <td>1.0</td>\n",
       "      <td>1.0</td>\n",
       "      <td>1.0</td>\n",
       "      <td>...</td>\n",
       "      <td>4.0</td>\n",
       "      <td>20.0</td>\n",
       "      <td>2.0</td>\n",
       "      <td>3.0</td>\n",
       "      <td>3.0</td>\n",
       "      <td>6.0</td>\n",
       "      <td>2.0</td>\n",
       "      <td>3.0</td>\n",
       "      <td>20.0</td>\n",
       "      <td>8.0</td>\n",
       "    </tr>\n",
       "    <tr>\n",
       "      <th>9</th>\n",
       "      <td>900</td>\n",
       "      <td>1.0</td>\n",
       "      <td>0.0</td>\n",
       "      <td>0.0</td>\n",
       "      <td>1.0</td>\n",
       "      <td>0.0</td>\n",
       "      <td>1.0</td>\n",
       "      <td>0.0</td>\n",
       "      <td>0.0</td>\n",
       "      <td>0.0</td>\n",
       "      <td>...</td>\n",
       "      <td>20.0</td>\n",
       "      <td>20.0</td>\n",
       "      <td>2.0</td>\n",
       "      <td>20.0</td>\n",
       "      <td>3.0</td>\n",
       "      <td>20.0</td>\n",
       "      <td>20.0</td>\n",
       "      <td>20.0</td>\n",
       "      <td>20.0</td>\n",
       "      <td>7.0</td>\n",
       "    </tr>\n",
       "  </tbody>\n",
       "</table>\n",
       "<p>10 rows × 32 columns</p>\n",
       "</div>"
      ],
      "text/plain": [
       "   epoch  pick_0  pick_1  pick_2  pick_3  pick_4  pick_5  pick_6  pick_7  \\\n",
       "0      0     0.0     0.0     0.0     0.0     0.0     0.0     0.0     0.0   \n",
       "1    100     1.0     0.0     0.0     1.0     0.0     1.0     1.0     1.0   \n",
       "2    200     1.0     0.0     0.0     1.0     0.0     1.0     1.0     1.0   \n",
       "3    300     1.0     0.0     0.0     1.0     0.0     1.0     1.0     1.0   \n",
       "4    400     0.0     0.0     0.0     1.0     0.0     1.0     0.0     1.0   \n",
       "5    500     0.0     0.0     0.0     1.0     0.0     1.0     1.0     1.0   \n",
       "6    600     1.0     0.0     0.0     1.0     0.0     1.0     0.0     1.0   \n",
       "7    700     1.0     0.0     0.0     1.0     1.0     1.0     0.0     0.0   \n",
       "8    800     0.0     0.0     0.0     1.0     1.0     1.0     1.0     1.0   \n",
       "9    900     1.0     0.0     0.0     1.0     0.0     1.0     0.0     0.0   \n",
       "\n",
       "   pick_8  ...  traj_14  traj_2  traj_3  traj_4  traj_5  traj_6  traj_7  \\\n",
       "0     0.0  ...     20.0    20.0    20.0    20.0    20.0    20.0    20.0   \n",
       "1     0.0  ...     20.0     8.0     2.0     2.0     3.0     5.0     2.0   \n",
       "2     0.0  ...      4.0    20.0     2.0     5.0     3.0     3.0     2.0   \n",
       "3     0.0  ...      3.0    21.0     2.0    20.0     3.0     5.0     2.0   \n",
       "4     1.0  ...     20.0    20.0     2.0    20.0     3.0    20.0     2.0   \n",
       "5     0.0  ...     20.0    21.0     2.0    21.0     3.0     4.0     2.0   \n",
       "6     0.0  ...     20.0    20.0     2.0     3.0     3.0    20.0     2.0   \n",
       "7     1.0  ...     20.0    20.0     2.0     4.0     3.0    20.0    20.0   \n",
       "8     1.0  ...      4.0    20.0     2.0     3.0     3.0     6.0     2.0   \n",
       "9     0.0  ...     20.0    20.0     2.0    20.0     3.0    20.0    20.0   \n",
       "\n",
       "   traj_8  traj_9  pick_sum  \n",
       "0    20.0    20.0       0.0  \n",
       "1    20.0    20.0       7.0  \n",
       "2    21.0    20.0       8.0  \n",
       "3    20.0    20.0       7.0  \n",
       "4     3.0    20.0       7.0  \n",
       "5    20.0    20.0       7.0  \n",
       "6    20.0    20.0       7.0  \n",
       "7     3.0    20.0       9.0  \n",
       "8     3.0    20.0       8.0  \n",
       "9    20.0    20.0       7.0  \n",
       "\n",
       "[10 rows x 32 columns]"
      ]
     },
     "execution_count": 10,
     "metadata": {},
     "output_type": "execute_result"
    }
   ],
   "source": [
    "df_ours"
   ]
  },
  {
   "cell_type": "code",
   "execution_count": null,
   "id": "0d2022df",
   "metadata": {},
   "outputs": [],
   "source": []
  }
 ],
 "metadata": {
  "kernelspec": {
   "display_name": "Python 3",
   "language": "python",
   "name": "python3"
  },
  "language_info": {
   "codemirror_mode": {
    "name": "ipython",
    "version": 3
   },
   "file_extension": ".py",
   "mimetype": "text/x-python",
   "name": "python",
   "nbconvert_exporter": "python",
   "pygments_lexer": "ipython3",
   "version": "3.8.8"
  }
 },
 "nbformat": 4,
 "nbformat_minor": 5
}
